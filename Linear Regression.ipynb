{
 "cells": [
  {
   "cell_type": "markdown",
   "metadata": {},
   "source": [
    "# Linear Regression"
   ]
  },
  {
   "cell_type": "markdown",
   "metadata": {},
   "source": [
    "### In this notebook, I will implement linear regression from scratch, I will use the data in the first assignment from the machine learning course in coursera by Andrew Ng. "
   ]
  },
  {
   "cell_type": "code",
   "execution_count": 1,
   "metadata": {},
   "outputs": [],
   "source": [
    "# We will start by uploading the libraries needed.\n",
    "from pandas import read_csv\n",
    "from matplotlib import pyplot\n",
    "import numpy"
   ]
  },
  {
   "cell_type": "code",
   "execution_count": 2,
   "metadata": {},
   "outputs": [
    {
     "name": "stdout",
     "output_type": "stream",
     "text": [
      "    Population  Truck_profits\n",
      "0       6.1101       17.59200\n",
      "1       5.5277        9.13020\n",
      "2       8.5186       13.66200\n",
      "3       7.0032       11.85400\n",
      "4       5.8598        6.82330\n",
      "5       8.3829       11.88600\n",
      "6       7.4764        4.34830\n",
      "7       8.5781       12.00000\n",
      "8       6.4862        6.59870\n",
      "9       5.0546        3.81660\n",
      "10      5.7107        3.25220\n",
      "11     14.1640       15.50500\n",
      "12      5.7340        3.15510\n",
      "13      8.4084        7.22580\n",
      "14      5.6407        0.71618\n",
      "15      5.3794        3.51290\n",
      "16      6.3654        5.30480\n",
      "17      5.1301        0.56077\n",
      "18      6.4296        3.65180\n",
      "19      7.0708        5.38930\n"
     ]
    }
   ],
   "source": [
    "# Loading the data\n",
    "filename = 'ex1data1.csv'\n",
    "names = ['Population','Truck_profits']\n",
    "Dataset = read_csv(filename, names = names)\n",
    "\n",
    "# Quick printing of the first 20 examples of the data to get an Idea how it looks like\n",
    "print(Dataset.head(20))"
   ]
  },
  {
   "cell_type": "code",
   "execution_count": 3,
   "metadata": {},
   "outputs": [],
   "source": [
    "# Let's extract the data \n",
    "array = Dataset.values\n",
    "#  and separate input and output\n",
    "X_ = array[:,:-1]\n",
    "Y = array[:,-1].reshape(len(X_),1)"
   ]
  },
  {
   "cell_type": "markdown",
   "metadata": {},
   "source": [
    "#### Before starting with learning algorithms, It's important to plot the data if possible to see how it looks like. Now we have all we need to plot the data."
   ]
  },
  {
   "cell_type": "code",
   "execution_count": 4,
   "metadata": {},
   "outputs": [
    {
     "data": {
      "image/png": "[encoded data removed]",
      "text/plain": [
       "<Figure size 432x288 with 1 Axes>"
      ]
     },
     "metadata": {
      "needs_background": "light"
     },
     "output_type": "display_data"
    }
   ],
   "source": [
    "pyplot.scatter(X_,Y, color = 'blue')\n",
    "pyplot.xlabel(\"Population\")\n",
    "pyplot.ylabel(\"Trucks' Profits\")\n",
    "pyplot.title(\"The Scatter Plot of the Population and Trucks' Profits\")\n",
    "pyplot.show()"
   ]
  },
  {
   "cell_type": "markdown",
   "metadata": {},
   "source": [
    "#### before I dive into the code, Let's discuss the math behind linear regression"
   ]
  },
  {
   "cell_type": "markdown",
   "metadata": {},
   "source": [
    "The regression is a line describing the data the best, we achieve this line by minimizing the squared error between the actual data and the predicted data we get from the regression line.\n",
    "The equation of the regression line looks like the following:\n",
    "\n",
    "$$Y = \\theta_0 + \\theta_1X$$\n",
    "\n",
    "Another way to write the equation is to use vectors and matrices\n",
    "\n",
    "$$Y = \\Theta X$$\n",
    "\n",
    "In order to be consistent with this notation, we have to add a column of all ones to X, because the first equation can be written as follows:\n",
    "\n",
    "$$Y = \\theta_0 * \\begin{bmatrix} \n",
    "1 \\\\\n",
    "1 \\\\\n",
    ". \\\\\n",
    ". \\\\\n",
    "1\n",
    "\\end{bmatrix} + \\theta_1 * X$$"
   ]
  },
  {
   "cell_type": "markdown",
   "metadata": {},
   "source": [
    "First we start by initializing the coefficients of the regression, Theta. \n",
    "In our case the the dimension of Theta is $(2,1)$"
   ]
  },
  {
   "cell_type": "code",
   "execution_count": 5,
   "metadata": {},
   "outputs": [
    {
     "name": "stdout",
     "output_type": "stream",
     "text": [
      "[[0.]\n",
      " [0.]]\n"
     ]
    }
   ],
   "source": [
    "Theta = numpy.zeros((2,1))\n",
    "print(Theta)"
   ]
  },
  {
   "cell_type": "code",
   "execution_count": 6,
   "metadata": {},
   "outputs": [
    {
     "name": "stdout",
     "output_type": "stream",
     "text": [
      "[[1.     6.1101]\n",
      " [1.     5.5277]\n",
      " [1.     8.5186]\n",
      " [1.     7.0032]\n",
      " [1.     5.8598]\n",
      " [1.     8.3829]\n",
      " [1.     7.4764]\n",
      " [1.     8.5781]\n",
      " [1.     6.4862]\n",
      " [1.     5.0546]]\n"
     ]
    }
   ],
   "source": [
    "# We add the column of all ones to X, so we have a matrix of 2 columns\n",
    "X = numpy.c_[numpy.ones(len(X_)),X_]\n",
    "\n",
    "# We print the first 10 elements\n",
    "print(X[:10,:])"
   ]
  },
  {
   "cell_type": "markdown",
   "metadata": {},
   "source": [
    "#### Now let's compute the error function, It's also called the cost function that needs to be minimized to find the optimal coefficient."
   ]
  },
  {
   "cell_type": "code",
   "execution_count": 7,
   "metadata": {},
   "outputs": [],
   "source": [
    "def computeCost(X,Y,Theta):\n",
    "\tm = len(Y)\n",
    "\tJ = (1/(2*m))*numpy.sum(numpy.square(X.dot(Theta)-Y))\n",
    "\treturn J"
   ]
  },
  {
   "cell_type": "code",
   "execution_count": 8,
   "metadata": {},
   "outputs": [
    {
     "name": "stdout",
     "output_type": "stream",
     "text": [
      "32.072733877455676\n"
     ]
    }
   ],
   "source": [
    "# We can print the cost function\n",
    "print(computeCost(X,Y,Theta))"
   ]
  },
  {
   "cell_type": "markdown",
   "metadata": {},
   "source": [
    "To minimize the cost function as a function of Theta, we have to compute the gradient.\n",
    "The gradient is the vector of first order partial derivatives for each component. We will use this gradient to update the coefficients of the regression later."
   ]
  },
  {
   "cell_type": "code",
   "execution_count": 10,
   "metadata": {},
   "outputs": [],
   "source": [
    "def computeGradient(X,Y,Theta):\n",
    "\tm = len(Y)\n",
    "\tgradient = (1/m)*numpy.sum((X.dot(Theta)-Y)*X, axis=0)\n",
    "\tsize = gradient.shape[0]\n",
    "\treturn gradient.reshape(size,1)"
   ]
  },
  {
   "cell_type": "markdown",
   "metadata": {},
   "source": [
    "The computeGradient function returns the gradient vector which has a dimension of $(2,1)$"
   ]
  },
  {
   "cell_type": "markdown",
   "metadata": {},
   "source": [
    "Now we have all the tools to start applying the gradient descent, which is an algorithm that uses the gradient to update the coefficients.\n",
    "In order to apply the algorithm we have to define the number of iterations and the learning rate."
   ]
  },
  {
   "cell_type": "code",
   "execution_count": 11,
   "metadata": {},
   "outputs": [],
   "source": [
    "iterations = 10000\n",
    "learning_rate = 0.01"
   ]
  },
  {
   "cell_type": "markdown",
   "metadata": {},
   "source": [
    "And then we define the gradientDescent function:"
   ]
  },
  {
   "cell_type": "code",
   "execution_count": 12,
   "metadata": {},
   "outputs": [],
   "source": [
    "def gradientDescent(X,Y,iterations,learning_rate,Theta):\n",
    "\ti = 0\n",
    "\terror = []\n",
    "\twhile i<iterations:\n",
    "\t\tgradient = computeGradient(X,Y,Theta)\n",
    "\t\tTheta = Theta - learning_rate*gradient\n",
    "\t\terror.append(computeCost(X,Y,Theta))\n",
    "\t\ti += 1\n",
    "\terror = numpy.asarray(error)\n",
    "\treturn Theta,error"
   ]
  },
  {
   "cell_type": "code",
   "execution_count": 13,
   "metadata": {},
   "outputs": [],
   "source": [
    "# We run the gradient descent algorithm, that's returning the optimal coefficients and the error for each iteration.\n",
    "Theta,error = gradientDescent(X,Y,iterations,learning_rate,Theta)"
   ]
  },
  {
   "cell_type": "code",
   "execution_count": 14,
   "metadata": {},
   "outputs": [],
   "source": [
    "# The predicted output using the regression we have found is\n",
    "PredictedY = X.dot(Theta)"
   ]
  },
  {
   "cell_type": "markdown",
   "metadata": {},
   "source": [
    "#### Now It's time to plot the regression and the error function as a function of the number of iterations"
   ]
  },
  {
   "cell_type": "code",
   "execution_count": 15,
   "metadata": {},
   "outputs": [
    {
     "data": {
      "image/png": "[encoded data removed]",
      "text/plain": [
       "<Figure size 432x288 with 1 Axes>"
      ]
     },
     "metadata": {
      "needs_background": "light"
     },
     "output_type": "display_data"
    }
   ],
   "source": [
    "pyplot.scatter(X_,Y, color = 'blue')\n",
    "pyplot.xlabel(\"Population\")\n",
    "pyplot.ylabel(\"Trucks' Profits\")\n",
    "pyplot.title(\"The Scatter Plot of the Population and Trucks' Profits\")\n",
    "\n",
    "pyplot.plot(X_,PredictedY,color = 'red')\n",
    "\n",
    "pyplot.show()"
   ]
  },
  {
   "cell_type": "code",
   "execution_count": 16,
   "metadata": {},
   "outputs": [
    {
     "data": {
      "image/png": "[encoded data removed]",
      "text/plain": [
       "<Figure size 432x288 with 1 Axes>"
      ]
     },
     "metadata": {
      "needs_background": "light"
     },
     "output_type": "display_data"
    }
   ],
   "source": [
    "# The error function as a function of iterations\n",
    "pyplot.plot(range(iterations),error,color = 'green')\n",
    "pyplot.xlabel(\"Iterations\")\n",
    "pyplot.ylabel(\"Cost function\")\n",
    "pyplot.title(\"Cost function as a function of the number of iterations\")\n",
    "\n",
    "pyplot.show()"
   ]
  },
  {
   "cell_type": "code",
   "execution_count": 17,
   "metadata": {},
   "outputs": [
    {
     "name": "stdout",
     "output_type": "stream",
     "text": [
      "4.476971375975179\n"
     ]
    }
   ],
   "source": [
    "# So the mean squared error is \n",
    "print(computeCost(X,Y,Theta))"
   ]
  },
  {
   "cell_type": "markdown",
   "metadata": {},
   "source": [
    "### Now I would like to solve the same problem using sklearn."
   ]
  },
  {
   "cell_type": "code",
   "execution_count": 18,
   "metadata": {},
   "outputs": [],
   "source": [
    "# Importing the libraries needed\n",
    "from sklearn.linear_model import LinearRegression\n",
    "from sklearn.model_selection import train_test_split\n",
    "from sklearn.metrics import mean_squared_error"
   ]
  },
  {
   "cell_type": "code",
   "execution_count": 19,
   "metadata": {},
   "outputs": [],
   "source": [
    "# We start by splitting th data into train and test sets\n",
    "X_train, X_test, Y_train, Y_test = train_test_split(X_,Y,test_size = 0.2,random_state = 7)\n",
    "\n",
    "# Applying the LinearRegression class\n",
    "regression = LinearRegression()\n",
    "regression.fit(X_train,Y_train)\n",
    "Pred = regression.predict(X_test)"
   ]
  },
  {
   "cell_type": "code",
   "execution_count": 20,
   "metadata": {},
   "outputs": [
    {
     "data": {
      "image/png": "[encoded data removed]",
      "text/plain": [
       "<Figure size 432x288 with 1 Axes>"
      ]
     },
     "metadata": {
      "needs_background": "light"
     },
     "output_type": "display_data"
    }
   ],
   "source": [
    "# We plot the regression line\n",
    "pyplot.scatter(X_test,Y_test, color = 'blue')\n",
    "pyplot.xlabel(\"Population\")\n",
    "pyplot.ylabel(\"Trucks' Profits\")\n",
    "pyplot.title(\"The Scatter Plot of the Population and Trucks' Profits\")\n",
    "pyplot.plot(X_test,Pred,color = 'green')\n",
    "\n",
    "pyplot.show()"
   ]
  },
  {
   "cell_type": "code",
   "execution_count": 21,
   "metadata": {},
   "outputs": [
    {
     "name": "stdout",
     "output_type": "stream",
     "text": [
      "4.303883384543663\n"
     ]
    }
   ],
   "source": [
    "print(mean_squared_error(Pred,Y_test))"
   ]
  },
  {
   "cell_type": "markdown",
   "metadata": {},
   "source": [
    "### Let's apply the gradient descent algorithm to a multi-features problem"
   ]
  },
  {
   "cell_type": "code",
   "execution_count": 22,
   "metadata": {},
   "outputs": [
    {
     "name": "stdout",
     "output_type": "stream",
     "text": [
      "    Size  No. Bedrooms   Price\n",
      "0   2104             3  399900\n",
      "1   1600             3  329900\n",
      "2   2400             3  369000\n",
      "3   1416             2  232000\n",
      "4   3000             4  539900\n",
      "5   1985             4  299900\n",
      "6   1534             3  314900\n",
      "7   1427             3  198999\n",
      "8   1380             3  212000\n",
      "9   1494             3  242500\n",
      "10  1940             4  239999\n",
      "11  2000             3  347000\n",
      "12  1890             3  329999\n",
      "13  4478             5  699900\n",
      "14  1268             3  259900\n",
      "15  2300             4  449900\n",
      "16  1320             2  299900\n",
      "17  1236             3  199900\n",
      "18  2609             4  499998\n",
      "19  3031             4  599000\n"
     ]
    }
   ],
   "source": [
    "filename = 'ex1data2.csv'\n",
    "names = ['Size','No. Bedrooms','Price']\n",
    "Dataset = read_csv(filename, names = names)\n",
    "\n",
    "print(Dataset.head(20))"
   ]
  },
  {
   "cell_type": "markdown",
   "metadata": {},
   "source": [
    "Before we apply gradient descent, we have to normalize the features first"
   ]
  },
  {
   "cell_type": "code",
   "execution_count": 23,
   "metadata": {},
   "outputs": [],
   "source": [
    "def normalizeFeatures(array):\n",
    "\tX_ = array[:,:-1]\n",
    "\tmean = numpy.mean(X_,axis = 0)\n",
    "\tstdv = numpy.std(X_,axis = 0)\n",
    "\tX_ = (X_ - mean)/stdv\n",
    "\treturn X_"
   ]
  },
  {
   "cell_type": "code",
   "execution_count": 24,
   "metadata": {},
   "outputs": [],
   "source": [
    "array = Dataset.values\n",
    "# Separate input and output\n",
    "\n",
    "X_ = normalizeFeatures(array)\n",
    "\n",
    "X = numpy.c_[numpy.ones(len(X_)),X_]\n",
    "\n",
    "Y = array[:,-1].reshape(len(X_),1)"
   ]
  },
  {
   "cell_type": "code",
   "execution_count": 25,
   "metadata": {},
   "outputs": [],
   "source": [
    "Theta = numpy.zeros((3,1))\n",
    "iterations = 1000\n",
    "learning_rate = 0.01\n",
    "\n",
    "Theta,error = gradientDescent(X,Y,iterations,learning_rate,Theta)\n",
    "PredictedY = X.dot(Theta)"
   ]
  },
  {
   "cell_type": "code",
   "execution_count": 26,
   "metadata": {},
   "outputs": [
    {
     "data": {
      "image/png": "[encoded data removed]",
      "text/plain": [
       "<Figure size 432x288 with 1 Axes>"
      ]
     },
     "metadata": {
      "needs_background": "light"
     },
     "output_type": "display_data"
    }
   ],
   "source": [
    "# The error function as a function of iterations\n",
    "pyplot.plot(range(iterations),error,color = 'green')\n",
    "pyplot.xlabel(\"Iterations\")\n",
    "pyplot.ylabel(\"Cost function\")\n",
    "pyplot.title(\"Cost function as a function of the number of iterations\")\n",
    "\n",
    "pyplot.show()"
   ]
  },
  {
   "cell_type": "code",
   "execution_count": null,
   "metadata": {},
   "outputs": [],
   "source": []
  }
 ],
 "metadata": {
  "kernelspec": {
   "display_name": "Python 3",
   "language": "python",
   "name": "python3"
  },
  "language_info": {
   "codemirror_mode": {
    "name": "ipython",
    "version": 3
   },
   "file_extension": ".py",
   "mimetype": "text/x-python",
   "name": "python",
   "nbconvert_exporter": "python",
   "pygments_lexer": "ipython3",
   "version": "3.7.0"
  }
 },
 "nbformat": 4,
 "nbformat_minor": 2
}
